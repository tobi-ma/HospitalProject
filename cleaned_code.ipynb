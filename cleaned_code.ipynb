{
 "cells": [
  {
   "metadata": {
    "ExecuteTime": {
     "end_time": "2024-07-05T11:39:57.137735Z",
     "start_time": "2024-07-05T11:39:57.135640Z"
    }
   },
   "cell_type": "code",
   "source": [
    "import pandas as pd\n",
    "import numpy as np\n",
    "from sklearn.model_selection import train_test_split\n",
    "from sklearn.preprocessing import StandardScaler\n",
    "from sklearn.pipeline import make_pipeline\n",
    "from sklearn.linear_model import LogisticRegression\n",
    "from xgboost.testing.data import joblib\n",
    "from sklearn.pipeline import Pipeline\n",
    "import os\n",
    "from datetime import datetime"
   ],
   "id": "444440f55407a19e",
   "outputs": [],
   "execution_count": 46
  },
  {
   "metadata": {
    "ExecuteTime": {
     "end_time": "2024-07-05T11:29:48.065212Z",
     "start_time": "2024-07-05T11:29:48.041072Z"
    }
   },
   "cell_type": "code",
   "source": [
    "# Import CSV files\n",
    "hospital_info = pd.read_csv('hospital-info.csv')\n",
    "not_yet_rated = pd.read_csv('not_yet_rated.csv')"
   ],
   "id": "a01ce3560a3b9884",
   "outputs": [],
   "execution_count": 18
  },
  {
   "metadata": {
    "ExecuteTime": {
     "end_time": "2024-07-05T11:29:48.067913Z",
     "start_time": "2024-07-05T11:29:48.066105Z"
    }
   },
   "cell_type": "code",
   "source": [
    "# Remove demographic and unnecessary columns\n",
    "columns_to_drop = [\n",
    "    'Provider ID',\n",
    "    'Hospital Name',\n",
    "    'Address',\n",
    "    'City',\n",
    "    'State',\n",
    "    'ZIP Code',\n",
    "    'County Name',\n",
    "    'Phone Number',\n",
    "    'Hospital Ownership',\n",
    "    'Emergency Services',\n",
    "    'rating_group'\n",
    "]"
   ],
   "id": "403c4f58ccd62529",
   "outputs": [],
   "execution_count": 19
  },
  {
   "metadata": {
    "ExecuteTime": {
     "end_time": "2024-07-05T11:29:48.071215Z",
     "start_time": "2024-07-05T11:29:48.068775Z"
    }
   },
   "cell_type": "code",
   "source": [
    "# Save ID data for later\n",
    "id_data = hospital_info[['Hospital Name', 'Address']].copy()"
   ],
   "id": "2e3d93ffba8489ac",
   "outputs": [],
   "execution_count": 20
  },
  {
   "metadata": {
    "ExecuteTime": {
     "end_time": "2024-07-05T11:29:48.074599Z",
     "start_time": "2024-07-05T11:29:48.072377Z"
    }
   },
   "cell_type": "code",
   "source": [
    "# Keep only necessary columns for machine learning\n",
    "ml_data = hospital_info.drop(columns=columns_to_drop)"
   ],
   "id": "2f595e595d9408ff",
   "outputs": [],
   "execution_count": 21
  },
  {
   "metadata": {
    "ExecuteTime": {
     "end_time": "2024-07-05T11:29:48.077224Z",
     "start_time": "2024-07-05T11:29:48.075359Z"
    }
   },
   "cell_type": "code",
   "source": [
    "# Convert hospital ratings to binary classification\n",
    "binary_classification = False\n",
    "\n",
    "if binary_classification:\n",
    "    ml_data['Hospital overall rating'] = ml_data['Hospital overall rating'].apply(lambda x: 1 if x > 3 else 0)"
   ],
   "id": "1e5b5937b69c67cc",
   "outputs": [],
   "execution_count": 22
  },
  {
   "metadata": {
    "ExecuteTime": {
     "end_time": "2024-07-05T11:29:48.080095Z",
     "start_time": "2024-07-05T11:29:48.077986Z"
    }
   },
   "cell_type": "code",
   "source": [
    "# Separate predictors and target variable\n",
    "X = ml_data.drop(columns=['Hospital overall rating'])\n",
    "y = ml_data['Hospital overall rating']"
   ],
   "id": "aa70f492a613d49a",
   "outputs": [],
   "execution_count": 23
  },
  {
   "metadata": {
    "ExecuteTime": {
     "end_time": "2024-07-05T11:29:48.085039Z",
     "start_time": "2024-07-05T11:29:48.081475Z"
    }
   },
   "cell_type": "code",
   "source": [
    "# Split the data into train and test sets (70-30 split)\n",
    "X_train, X_test, y_train, y_test = train_test_split(X, y, test_size=0.3, random_state=0)"
   ],
   "id": "9c5dff62c1baf22f",
   "outputs": [],
   "execution_count": 24
  },
  {
   "metadata": {},
   "cell_type": "markdown",
   "source": "Selected Features",
   "id": "6f41def9a64ac9a"
  },
  {
   "metadata": {
    "ExecuteTime": {
     "end_time": "2024-07-05T11:29:48.090978Z",
     "start_time": "2024-07-05T11:29:48.088141Z"
    }
   },
   "cell_type": "code",
   "source": [
    "svm_features = [\n",
    "    'Mortality national comparison', 'Safety of care national comparison',\n",
    "    'Readmission national comparison', 'Patient experience national comparison',\n",
    "    'Effectiveness of care national comparison', 'Timeliness of care national comparison',\n",
    "    'Efficient use of medical imaging national comparison', 'MORT_30_AMI_Score',\n",
    "    'MORT_30_CABG_Score', 'MORT_30_COPD_Score', 'MORT_30_HF_Score',\n",
    "    'MORT_30_PN_Score', 'MORT_30_STK_Score', 'READM_30_AMI_Score',\n",
    "    'READM_30_CABG_Score', 'READM_30_COPD_Score', 'READM_30_HF_Score',\n",
    "    'READM_30_HIP_KNEE_Score', 'READM_30_HOSP_WIDE_Score',\n",
    "    'READM_30_PN_Score', 'READM_30_STK_Score', 'TIME_OP_21_Score',\n",
    "    'TIME_OP_5_Score', 'EFF_EDV_Score', 'EFF_IMM_2_Score',\n",
    "    'EFF_OP_20_Score', 'EFF_OP_22_Score', 'EFF_OP_4_Score',\n",
    "    'EFF_PC_01_Score', 'EFF_STK_1_Score', 'EFF_STK_10_Score',\n",
    "    'EFF_STK_2_Score', 'EFF_STK_4_Score', 'EFF_STK_5_Score',\n",
    "    'EFF_STK_6_Score', 'EFF_VTE_1_Score', 'EFF_VTE_2_Score',\n",
    "    'EFF_VTE_3_Score', 'EFF_VTE_5_Score', 'EFF_VTE_6_Score',\n",
    "    'EXP_H_CLEAN_STAR_RATING_Score', 'EXP_H_COMP_1_STAR_RATING_Score',\n",
    "    'EXP_H_COMP_2_STAR_RATING_Score', 'EXP_H_COMP_3_STAR_RATING_Score',\n",
    "    'EXP_H_COMP_4_STAR_RATING_Score', 'EXP_H_COMP_5_STAR_RATING_Score',\n",
    "    'EXP_H_COMP_6_STAR_RATING_Score', 'EXP_H_COMP_7_STAR_RATING_Score',\n",
    "    'EXP_H_HSP_RATING_STAR_RATING_Score', 'EXP_H_QUIET_STAR_RATING_Score',\n",
    "    'EXP_H_RECMND_STAR_RATING_Score', 'EXP_H_STAR_RATING_Score',\n",
    "    'SAFETY_COMP_HIP_KNEE_Score', 'SAFETY_PSI_12_POSTOP_PULMEMB_DVT_Score',\n",
    "    'SAFETY_PSI_13_POST_SEPSIS_Score', 'SAFETY_PSI_14_POSTOP_DEHIS_Score',\n",
    "    'SAFETY_PSI_15_ACC_LAC_Score', 'SAFETY_PSI_3_ULCER_Score',\n",
    "    'SAFETY_PSI_6_IAT_PTX_Score', 'SAFETY_PSI_7_CVCBI_Score',\n",
    "    'SAFETY_PSI_90_SAFETY_Score', 'SAFETY_HAI_1_SIR_Score',\n",
    "    'SAFETY_HAI_1a_SIR_Score', 'SAFETY_HAI_2_SIR_Score',\n",
    "    'SAFETY_HAI_2a_SIR_Score', 'SAFETY_HAI_3_SIR_Score',\n",
    "    'SAFETY_HAI_4_SIR_Score', 'SAFETY_HAI_5_SIR_Score',\n",
    "    'SAFETY_HAI_6_SIR_Score', 'MED_OP_10_Score', 'MED_OP_11_Score',\n",
    "    'MED_OP_13_Score', 'MED_OP_14_Score', 'MED_OP_8_Score',\n",
    "    'MED_OP_9_Score'\n",
    "]"
   ],
   "id": "2188ad25a830205d",
   "outputs": [],
   "execution_count": 25
  },
  {
   "metadata": {
    "ExecuteTime": {
     "end_time": "2024-07-05T11:29:48.102384Z",
     "start_time": "2024-07-05T11:29:48.099725Z"
    }
   },
   "cell_type": "code",
   "source": [
    "X_train_selected = X_train[svm_features]\n",
    "X_test_selected = X_test[svm_features]"
   ],
   "id": "2d84eaa24638d949",
   "outputs": [],
   "execution_count": 26
  },
  {
   "metadata": {
    "ExecuteTime": {
     "end_time": "2024-07-05T11:55:58.213675Z",
     "start_time": "2024-07-05T11:55:51.665533Z"
    }
   },
   "cell_type": "code",
   "source": [
    "save_new_model = True\n",
    "\n",
    "if save_new_model:\n",
    "\n",
    "    params = {\n",
    "        \"C\": 0.8895813093302738,\n",
    "        \"l1_ratio\": 0.9803599632901754,\n",
    "        \"max_iter\": 2000, # 828\n",
    "        \"solver\": 'saga',\n",
    "        \"penalty\": 'elasticnet',\n",
    "        \"random_state\": 42,\n",
    "        \"n_jobs\": -1\n",
    "    }\n",
    "    # Create pipeline\n",
    "    hospital_pipeline = Pipeline([\n",
    "        ('scaler', StandardScaler()),\n",
    "        ('regressor', LogisticRegression(**params))\n",
    "    ])\n",
    "    \n",
    "    # Train the best model on the full training data\n",
    "    hospital_pipeline.fit(X_train_selected, y_train)\n",
    "    \n",
    "    # Save the trained model\n",
    "    joblib.dump(hospital_pipeline, 'ml_model.pkl')\n",
    "    \n",
    "    accuracy = hospital_pipeline.score(X_test_selected, y_test)\n",
    "    \n",
    "    print(f\"Model accuracy: {round(100*accuracy, 2)}%\")"
   ],
   "id": "f5be3d46125b40d6",
   "outputs": [
    {
     "name": "stdout",
     "output_type": "stream",
     "text": [
      "Model accuracy: 0.91%\n"
     ]
    }
   ],
   "execution_count": 52
  },
  {
   "metadata": {
    "ExecuteTime": {
     "end_time": "2024-07-05T11:29:54.685866Z",
     "start_time": "2024-07-05T11:29:54.620109Z"
    }
   },
   "cell_type": "code",
   "source": [
    "# Ensure that 'not_yet_rated' contains all the selected features\n",
    "not_yet_rated_selected = not_yet_rated[svm_features]\n",
    "\n",
    "# Load the ML model\n",
    "hospital_pipeline = joblib.load('ml_model.pkl')\n",
    "\n",
    "# Make predictions\n",
    "predictions = hospital_pipeline.predict(not_yet_rated_selected)\n",
    "\n",
    "# Add predictions to the DataFrame\n",
    "not_yet_rated['Predicted Hospital overall rating'] = predictions\n",
    "\n",
    "# Display the predictions\n",
    "not_yet_rated[['Provider ID', 'Predicted Hospital overall rating']]"
   ],
   "id": "675c7d4badb2f273",
   "outputs": [
    {
     "data": {
      "text/plain": [
       "   Provider ID  Predicted Hospital overall rating\n",
       "0       520139                                  4\n",
       "1       520189                                  4\n",
       "2       370029                                  3\n",
       "3       370032                                  3\n",
       "4       370036                                  3\n",
       "5       370037                                  3"
      ],
      "text/html": [
       "<div>\n",
       "<style scoped>\n",
       "    .dataframe tbody tr th:only-of-type {\n",
       "        vertical-align: middle;\n",
       "    }\n",
       "\n",
       "    .dataframe tbody tr th {\n",
       "        vertical-align: top;\n",
       "    }\n",
       "\n",
       "    .dataframe thead th {\n",
       "        text-align: right;\n",
       "    }\n",
       "</style>\n",
       "<table border=\"1\" class=\"dataframe\">\n",
       "  <thead>\n",
       "    <tr style=\"text-align: right;\">\n",
       "      <th></th>\n",
       "      <th>Provider ID</th>\n",
       "      <th>Predicted Hospital overall rating</th>\n",
       "    </tr>\n",
       "  </thead>\n",
       "  <tbody>\n",
       "    <tr>\n",
       "      <th>0</th>\n",
       "      <td>520139</td>\n",
       "      <td>4</td>\n",
       "    </tr>\n",
       "    <tr>\n",
       "      <th>1</th>\n",
       "      <td>520189</td>\n",
       "      <td>4</td>\n",
       "    </tr>\n",
       "    <tr>\n",
       "      <th>2</th>\n",
       "      <td>370029</td>\n",
       "      <td>3</td>\n",
       "    </tr>\n",
       "    <tr>\n",
       "      <th>3</th>\n",
       "      <td>370032</td>\n",
       "      <td>3</td>\n",
       "    </tr>\n",
       "    <tr>\n",
       "      <th>4</th>\n",
       "      <td>370036</td>\n",
       "      <td>3</td>\n",
       "    </tr>\n",
       "    <tr>\n",
       "      <th>5</th>\n",
       "      <td>370037</td>\n",
       "      <td>3</td>\n",
       "    </tr>\n",
       "  </tbody>\n",
       "</table>\n",
       "</div>"
      ]
     },
     "execution_count": 28,
     "metadata": {},
     "output_type": "execute_result"
    }
   ],
   "execution_count": 28
  },
  {
   "metadata": {
    "ExecuteTime": {
     "end_time": "2024-07-05T11:38:51.816784Z",
     "start_time": "2024-07-05T11:38:51.812999Z"
    }
   },
   "cell_type": "code",
   "source": [
    "# Function to generate recommendations for a hospital\n",
    "def generate_recommendations(hospital_id, not_yet_rated, feature_importances, top_n=5):\n",
    "    # Get the top N important features\n",
    "    top_features = feature_importances.head(top_n)['Feature'].values\n",
    "    \n",
    "    # Get the data for the specific hospital\n",
    "    hospital_data = not_yet_rated[not_yet_rated['Provider ID'] == hospital_id]\n",
    "    \n",
    "    # Compare with hospitals having higher ratings\n",
    "    higher_rated_hospitals = not_yet_rated[not_yet_rated['Predicted Hospital overall rating'] >= 4]\n",
    "    \n",
    "    recommendations = {}\n",
    "    \n",
    "    for feature in top_features:\n",
    "        # Get the mean value of the feature for higher-rated hospitals\n",
    "        mean_value = higher_rated_hospitals[feature].mean()\n",
    "        \n",
    "        # Get the hospital's current value for the feature\n",
    "        current_value = hospital_data[feature].values[0]\n",
    "        \n",
    "        # Generate recommendation if the current value is lower than the mean value\n",
    "        if current_value < mean_value:\n",
    "            recommendations[feature] = {\n",
    "                'current_value': current_value,\n",
    "                'recommended_value': mean_value,\n",
    "                'difference': mean_value - current_value\n",
    "            }\n",
    "    \n",
    "    return recommendations"
   ],
   "id": "e6fb6bc4cd6e8bb9",
   "outputs": [],
   "execution_count": 39
  },
  {
   "metadata": {
    "ExecuteTime": {
     "end_time": "2024-07-05T11:38:52.324359Z",
     "start_time": "2024-07-05T11:38:52.321789Z"
    }
   },
   "cell_type": "code",
   "source": [
    "# Apply recommendations to the dataset\n",
    "def apply_recommendations(hospital_id, not_yet_rated, recommendations):\n",
    "    modified_data = not_yet_rated.copy()\n",
    "    for feature, details in recommendations.items():\n",
    "        modified_data.loc[modified_data['Provider ID'] == hospital_id, feature] = details['recommended_value']\n",
    "    return modified_data"
   ],
   "id": "1699a0fdc9acfdb3",
   "outputs": [],
   "execution_count": 40
  },
  {
   "metadata": {
    "ExecuteTime": {
     "end_time": "2024-07-05T11:42:19.098578Z",
     "start_time": "2024-07-05T11:42:19.096421Z"
    }
   },
   "cell_type": "code",
   "source": [
    "# Load or create the version history DataFrame\n",
    "def load_version_history(file_path='data_versions.csv'):\n",
    "    if os.path.exists(file_path):\n",
    "        return pd.read_csv(file_path)\n",
    "    else:\n",
    "        return pd.DataFrame(columns=['Version', 'Reference_ID', 'Date', 'Configurations', 'Data'])"
   ],
   "id": "16928d87e3d87e1c",
   "outputs": [],
   "execution_count": 48
  },
  {
   "metadata": {
    "ExecuteTime": {
     "end_time": "2024-07-05T11:42:26.317878Z",
     "start_time": "2024-07-05T11:42:26.314684Z"
    }
   },
   "cell_type": "code",
   "source": [
    "# Save version history to CSV\n",
    "def save_version_history(version_history, file_path='data_versions.csv'):\n",
    "    version_history.to_csv(file_path, index=False)"
   ],
   "id": "6a5d633ec6e25ff4",
   "outputs": [],
   "execution_count": 49
  },
  {
   "metadata": {
    "ExecuteTime": {
     "end_time": "2024-07-05T11:42:50.557454Z",
     "start_time": "2024-07-05T11:42:50.553190Z"
    }
   },
   "cell_type": "code",
   "source": [
    "# Main function to handle recommendations and saving the new dataset\n",
    "def process_hospital_data(hospital_id, not_yet_rated, feature_importances, pipeline, version_history):\n",
    "    recommendations = generate_recommendations(hospital_id, not_yet_rated, feature_importances)\n",
    "    \n",
    "    # Print recommendations\n",
    "    print(f\"Recommendations for Hospital ID {hospital_id}:\")\n",
    "    for feature, details in recommendations.items():\n",
    "        print(f\"- {feature}: Increase from {details['current_value']} to {details['recommended_value']} (Difference: {details['difference']:.2f})\")\n",
    "    \n",
    "    # Apply recommendations and create a new version of the dataset\n",
    "    modified_data = apply_recommendations(hospital_id, not_yet_rated, recommendations)\n",
    "    \n",
    "    # Generate a new version number\n",
    "    new_version = version_history['Version'].max() + 1 if not version_history.empty else 1\n",
    "    \n",
    "    # Get current date and time\n",
    "    current_date = datetime.now().strftime('%Y-%m-%d %H:%M:%S')\n",
    "    \n",
    "    # Save the new version to the version history DataFrame\n",
    "    new_entry = {\n",
    "        'Version': new_version,\n",
    "        'Reference_ID': hospital_id,\n",
    "        'Date': current_date,\n",
    "        'Configurations': params,\n",
    "        'Data': modified_data.to_dict()\n",
    "    }\n",
    "    version_history.loc[len(version_history)] = new_entry\n",
    "    \n",
    "    # Save the updated version history to CSV\n",
    "    save_version_history(version_history)\n",
    "    \n",
    "    return modified_data, new_version"
   ],
   "id": "7e507b50780a787",
   "outputs": [],
   "execution_count": 50
  },
  {
   "metadata": {
    "ExecuteTime": {
     "end_time": "2024-07-05T11:38:54.888003Z",
     "start_time": "2024-07-05T11:38:54.886368Z"
    }
   },
   "cell_type": "code",
   "source": "hospital_id = 370037",
   "id": "b456a03ac8dce4cc",
   "outputs": [],
   "execution_count": 44
  },
  {
   "metadata": {
    "ExecuteTime": {
     "end_time": "2024-07-05T11:46:11.525844Z",
     "start_time": "2024-07-05T11:46:11.511938Z"
    }
   },
   "cell_type": "code",
   "source": [
    "# Export feature_importances_ / coef_ attribute\n",
    "importances = np.abs(hospital_pipeline.named_steps['regressor'].coef_)[0]\n",
    "feature_names = svm_features\n",
    "\n",
    "# Create a DataFrame for feature importances\n",
    "feature_importances = pd.DataFrame({'Feature': feature_names, 'Importance': importances})\n",
    "feature_importances = feature_importances.sort_values(by='Importance', ascending=False)\n",
    "\n",
    "# Load existing version history or create a new one\n",
    "version_history = load_version_history()\n",
    "\n",
    "# Example: Process hospital data and save new version\n",
    "modified_data, new_version = process_hospital_data(hospital_id, not_yet_rated, feature_importances, hospital_pipeline, version_history)\n",
    "\n",
    "# Calculate the new prediction for the modified hospital\n",
    "new_prediction = hospital_pipeline.predict(modified_data[modified_data['Provider ID'] == hospital_id][svm_features])\n",
    "print(f\"New predicted rating for Hospital ID {hospital_id}: {new_prediction[0]}\")"
   ],
   "id": "f450afe137e5281f",
   "outputs": [
    {
     "name": "stdout",
     "output_type": "stream",
     "text": [
      "Recommendations for Hospital ID 370037:\n",
      "- MORT_30_PN_Score: Increase from -15.4 to -15.100000000000001 (Difference: 0.30)\n",
      "- MORT_30_HF_Score: Increase from -12.8 to -12.7 (Difference: 0.10)\n",
      "New predicted rating for Hospital ID 370037: 3\n"
     ]
    }
   ],
   "execution_count": 51
  },
  {
   "metadata": {},
   "cell_type": "markdown",
   "source": [
    "1. Mittelwert und Minimum jedes Features berechnen\n",
    "2. Vergleich des Hospitals mit diesen Daten: Relative Abweichungen vom Mittelwert anzeigen und ranken, Unterschreitungen des Minimalwertes ausweisen.\n",
    "3. Berechnung des Hospitals mit Empfehlungswert durchführen und neue Bewertung prüfen.\n",
    "4. Ähnlichkeit von Datensätzen definieren, Ähnlichkeiten bestimmen, ähnlichsten Datensatz herausfinden und vergleichen, Stellschrauben definieren\n",
    "\n",
    "Davor: Analyse der Wechselwirkungen (Interaktionen) zwischen verschiedenen Merkmalen"
   ],
   "id": "8da21424ead5ff9"
  },
  {
   "metadata": {
    "ExecuteTime": {
     "end_time": "2024-07-05T11:29:54.740622Z",
     "start_time": "2024-07-05T11:29:54.740185Z"
    }
   },
   "cell_type": "code",
   "source": "",
   "id": "9249e938fd6e0a1c",
   "outputs": [],
   "execution_count": null
  },
  {
   "metadata": {},
   "cell_type": "code",
   "source": "",
   "id": "7c3d18e8f761646",
   "outputs": [],
   "execution_count": null
  },
  {
   "metadata": {},
   "cell_type": "markdown",
   "source": "",
   "id": "76e1decbbf24fdb8"
  },
  {
   "metadata": {},
   "cell_type": "markdown",
   "source": "",
   "id": "27c4375c5b170696"
  },
  {
   "metadata": {
    "ExecuteTime": {
     "end_time": "2024-07-05T11:29:54.745350Z",
     "start_time": "2024-07-05T11:29:54.744523Z"
    }
   },
   "cell_type": "code",
   "source": "",
   "id": "1a47a3467cf88b37",
   "outputs": [],
   "execution_count": null
  },
  {
   "metadata": {
    "ExecuteTime": {
     "end_time": "2024-07-05T11:29:54.749869Z",
     "start_time": "2024-07-05T11:29:54.749137Z"
    }
   },
   "cell_type": "code",
   "source": "",
   "id": "95ef2c5f57e4f3e1",
   "outputs": [],
   "execution_count": null
  },
  {
   "metadata": {},
   "cell_type": "code",
   "source": "",
   "id": "d946a37b2db8cec1",
   "outputs": [],
   "execution_count": null
  }
 ],
 "metadata": {
  "kernelspec": {
   "display_name": "Python 3",
   "language": "python",
   "name": "python3"
  },
  "language_info": {
   "codemirror_mode": {
    "name": "ipython",
    "version": 2
   },
   "file_extension": ".py",
   "mimetype": "text/x-python",
   "name": "python",
   "nbconvert_exporter": "python",
   "pygments_lexer": "ipython2",
   "version": "2.7.6"
  }
 },
 "nbformat": 4,
 "nbformat_minor": 5
}
